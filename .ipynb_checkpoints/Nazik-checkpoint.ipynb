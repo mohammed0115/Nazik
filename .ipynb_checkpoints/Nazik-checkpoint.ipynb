{
 "cells": [
  {
   "cell_type": "code",
   "execution_count": null,
   "metadata": {},
   "outputs": [],
   "source": [
    "class Normality:\n",
    "    Normality = False \n",
    "    Athletic_person = False\n",
    "    def __init__(self,age,tempreture,heardbeat):\n",
    "        self.age=age\n",
    "        self.tempreture = tempreture\n",
    "        self.heardbeat = heardbeat\n",
    "        if age >14:\n",
    "            \n",
    "    "
   ]
  }
 ],
 "metadata": {
  "kernelspec": {
   "display_name": "Python 3",
   "language": "python",
   "name": "python3"
  },
  "language_info": {
   "codemirror_mode": {
    "name": "ipython",
    "version": 3
   },
   "file_extension": ".py",
   "mimetype": "text/x-python",
   "name": "python",
   "nbconvert_exporter": "python",
   "pygments_lexer": "ipython3",
   "version": "3.6.9"
  }
 },
 "nbformat": 4,
 "nbformat_minor": 2
}
