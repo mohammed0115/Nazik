{
 "cells": [
  {
   "cell_type": "code",
   "execution_count": 41,
   "metadata": {},
   "outputs": [],
   "source": [
    "class Normality:\n",
    "    Normality = False \n",
    "    Athletic_person = False\n",
    "   \n",
    "    def __init__(self,age,tempreture,heardbeat,Athletic_person):\n",
    "        self.age=age\n",
    "        self.tempreture = tempreture\n",
    "        self.heardbeat = heardbeat\n",
    "        self.Athletic_person=Athletic_person\n",
    "        \n",
    "        if((age>=15 and age<=100)):\n",
    "            if self.check_tempreture(self.tempreture):\n",
    "                self.Normality=self.check_adaltHeardbeat(heardbeat,Athletic_person)\n",
    "            else:\n",
    "                self.Normality=False\n",
    "        elif((age >0 and age<=0.083333)):\n",
    "            if self.check_tempreture(self.tempreture):\n",
    "                self.Normality=self.check_NewBornHeardbeat(heardbeat)\n",
    "            else:\n",
    "                self.Normality=False\n",
    "        elif((age >0.166666667 and age<=2)):\n",
    "            if self.check_tempreture(self.tempreture):\n",
    "                self.Normality=self.check_infantHeardbeat(heardbeat)\n",
    "            else:\n",
    "                self.Normality=False\n",
    "        elif((age >2 and age<=14)):\n",
    "            if self.check_tempreture(self.tempreture):\n",
    "                self.Normality=self.check_childHeardbeat(heardbeat)\n",
    "            else:\n",
    "                self.Normality=False\n",
    "            \n",
    "\n",
    "            \n",
    "            \n",
    "    def check_NewBornHeardbeat(self,heardbeat):\n",
    "        return  (heardbeat>=70 and heardbeat<=190)\n",
    "    def check_infantHeardbeat(self,heardbeat):\n",
    "        return (heardbeat>=80 and heardbeat<=160)\n",
    "    def check_childHeardbeat(self,heardbeat):\n",
    "        return  (heardbeat>=70 and heardbeat<=120)\n",
    "    def check_adaltHeardbeat(self,heardbeat,Athletic_person):\n",
    "        if Athletic_person:\n",
    "            return (heardbeat>=40 and heardbeat<=60)\n",
    "        else:\n",
    "            return (heardbeat>=60 and heardbeat<=100)\n",
    "    def check_tempreture(self,tempreture):\n",
    "        return (tempreture >=36 and tempreture <=38)\n",
    "    \n",
    "    "
   ]
  },
  {
   "cell_type": "code",
   "execution_count": 48,
   "metadata": {},
   "outputs": [],
   "source": [
    "n=Normality(1,36,120,False)"
   ]
  },
  {
   "cell_type": "code",
   "execution_count": 49,
   "metadata": {},
   "outputs": [
    {
     "data": {
      "text/plain": [
       "True"
      ]
     },
     "execution_count": 49,
     "metadata": {},
     "output_type": "execute_result"
    }
   ],
   "source": [
    "n.Normality"
   ]
  },
  {
   "cell_type": "code",
   "execution_count": null,
   "metadata": {},
   "outputs": [],
   "source": []
  }
 ],
 "metadata": {
  "kernelspec": {
   "display_name": "Python 3",
   "language": "python",
   "name": "python3"
  },
  "language_info": {
   "codemirror_mode": {
    "name": "ipython",
    "version": 3
   },
   "file_extension": ".py",
   "mimetype": "text/x-python",
   "name": "python",
   "nbconvert_exporter": "python",
   "pygments_lexer": "ipython3",
   "version": "3.6.9"
  }
 },
 "nbformat": 4,
 "nbformat_minor": 2
}
